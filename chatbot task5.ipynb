{
 "cells": [
  {
   "cell_type": "code",
   "execution_count": 2,
   "id": "d9e5b590",
   "metadata": {},
   "outputs": [
    {
     "name": "stdout",
     "output_type": "stream",
     "text": [
      "Chatbot: Hello! How can I help you?\n",
      "You: hii chatbot\n",
      "Chatbot: Hello!\n",
      "You: have a good day or not\n",
      "Chatbot: Good day!\n",
      "You: i have one help\n",
      "Chatbot: How can I help you?\n",
      "You: ok see you\n",
      "Chatbot: Hello!\n",
      "You: bye\n",
      "Chatbot: Bye! Have a nice day!\n"
     ]
    }
   ],
   "source": [
    "import nltk\n",
    "import numpy as np\n",
    "import random\n",
    "import string\n",
    "\n",
    "from sklearn.feature_extraction.text import TfidfVectorizer\n",
    "from sklearn.metrics.pairwise import cosine_similarity\n",
    "\n",
    "# Sample corpus of responses\n",
    "corpus = [\n",
    "    \"Hello!\",\n",
    "    \"Hi there!\",\n",
    "    \"How can I help you?\",\n",
    "    \"What can I do for you?\",\n",
    "    \"Good day!\",\n",
    "    \"Bye!\",\n",
    "    \"See you later!\",\n",
    "    \"Have a nice day!\"\n",
    "]\n",
    "\n",
    "# Preprocessing function\n",
    "def preprocess_text(text):\n",
    "    text = text.lower()  # Convert text to lowercase\n",
    "    text = \"\".join([char for char in text if char not in string.punctuation])  # Remove punctuation\n",
    "    return text\n",
    "\n",
    "# Generate TF-IDF vectors for the corpus\n",
    "tfidf_vectorizer = TfidfVectorizer(tokenizer=nltk.word_tokenize, stop_words='english', preprocessor=preprocess_text)\n",
    "tfidf_matrix = tfidf_vectorizer.fit_transform(corpus)\n",
    "\n",
    "# Function to get a response to user input\n",
    "def get_response(user_input):\n",
    "    user_input = preprocess_text(user_input)\n",
    "    user_input_vector = tfidf_vectorizer.transform([user_input])\n",
    "    similarity_scores = cosine_similarity(user_input_vector, tfidf_matrix)\n",
    "    max_similarity_index = np.argmax(similarity_scores)\n",
    "    response = corpus[max_similarity_index]\n",
    "    return response\n",
    "\n",
    "# Main loop\n",
    "print(\"Chatbot: Hello! How can I help you?\")\n",
    "while True:\n",
    "    user_input = input(\"You: \")\n",
    "    if user_input.lower() == 'bye':\n",
    "        print(\"Chatbot: Bye! Have a nice day!\")\n",
    "        break\n",
    "    else:\n",
    "        response = get_response(user_input)\n",
    "        print(\"Chatbot:\", response)\n"
   ]
  },
  {
   "cell_type": "code",
   "execution_count": null,
   "id": "b61a70d9",
   "metadata": {},
   "outputs": [],
   "source": []
  }
 ],
 "metadata": {
  "kernelspec": {
   "display_name": "Python 3 (ipykernel)",
   "language": "python",
   "name": "python3"
  },
  "language_info": {
   "codemirror_mode": {
    "name": "ipython",
    "version": 3
   },
   "file_extension": ".py",
   "mimetype": "text/x-python",
   "name": "python",
   "nbconvert_exporter": "python",
   "pygments_lexer": "ipython3",
   "version": "3.11.5"
  }
 },
 "nbformat": 4,
 "nbformat_minor": 5
}
